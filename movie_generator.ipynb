{
 "cells": [
  {
   "cell_type": "code",
   "execution_count": 1,
   "metadata": {},
   "outputs": [
    {
     "name": "stderr",
     "output_type": "stream",
     "text": [
      "C:\\Users\\ryanb\\Anaconda\\lib\\site-packages\\numpy\\core\\__init__.py:29: UserWarning: loaded more than 1 DLL from .libs:\n",
      "C:\\Users\\ryanb\\Anaconda\\lib\\site-packages\\numpy\\.libs\\libopenblas.IPBC74C7KURV7CB2PKT5Z5FNR3SIBV4J.gfortran-win_amd64.dll\n",
      "C:\\Users\\ryanb\\Anaconda\\lib\\site-packages\\numpy\\.libs\\libopenblas.TXA6YQSD3GCQQC22GEQ54J2UDCXDXHWN.gfortran-win_amd64.dll\n",
      "  stacklevel=1)\n"
     ]
    }
   ],
   "source": [
    "import pandas as pd\n",
    "#movies = pd.read_csv('movies_data.csv')\n",
    "import webbrowser\n",
    "from splinter import Browser\n",
    "from bs4 import BeautifulSoup\n",
    "import requests"
   ]
  },
  {
   "cell_type": "code",
   "execution_count": 2,
   "metadata": {},
   "outputs": [],
   "source": [
    "def movie_scrape():\n",
    "    movies = pd.read_csv('movies_data.csv')\n",
    "    clean_movies_df = pd.DataFrame(movies)\n",
    "    clean_movies_df.drop(clean_movies_df.loc[clean_movies_df['popularity']<30].index, inplace=True)\n",
    "    most_popular_df = clean_movies_df.sort_values(by=[\"popularity\"], ascending=False)\n",
    "    random_movie = most_popular_df.sample()\n",
    "    use_movie = random_movie.sample()\n",
    "    term = use_movie[\"title\"].values[0].replace(\" \" or \":\", \"_\")\n",
    "    url = \"https://www.rottentomatoes.com/m/\" + term + \"/quotes/\"\n",
    "    # Get the html from a request to the url\n",
    "    response = requests.get(url)\n",
    "\n",
    "    html = response.text\n",
    "\n",
    "    # Convert the html into a BeautifulSoup object\n",
    "    soup = BeautifulSoup(html, 'html.parser')\n",
    "\n",
    "    # Get all info from the specified .find_all() location\n",
    "    quotes = soup.find_all('li', class_='quote_item')\n",
    "    \n",
    "    links =[]\n",
    "    for quote in quotes:\n",
    "         links = quote.text\n",
    "\n",
    "    # Return links as a dictionary value \n",
    "    return {\n",
    "         links\n",
    "    }\n"
   ]
  },
  {
   "cell_type": "code",
   "execution_count": 3,
   "metadata": {},
   "outputs": [
    {
     "name": "stdout",
     "output_type": "stream",
     "text": [
      "{\"\\n\\n\\nCapa:\\nSo if you wake up one morning and it's a particularly beautiful day, you'll know we made it. Okay, I'm signing out. \\n\\n\\n\\n\"}\n"
     ]
    }
   ],
   "source": [
    "print(movie_scrape())\n"
   ]
  },
  {
   "cell_type": "code",
   "execution_count": null,
   "metadata": {},
   "outputs": [],
   "source": [
    "clean_movies_df = pd.DataFrame(movies)"
   ]
  },
  {
   "cell_type": "code",
   "execution_count": 3,
   "metadata": {},
   "outputs": [],
   "source": [
    "clean_movies_df.drop(clean_movies_df.loc[clean_movies_df['popularity']<30].index, inplace=True)\n",
    "most_popular_df = clean_movies_df.sort_values(by=[\"popularity\"], ascending=False)"
   ]
  },
  {
   "cell_type": "code",
   "execution_count": 4,
   "metadata": {},
   "outputs": [],
   "source": [
    "random_movie = most_popular_df.sample()\n",
    "use_movie = random_movie.sample()\n",
    "term = use_movie[\"title\"].values[0].replace(\" \" or \":\", \"_\")\n",
    "url = \"https://www.rottentomatoes.com/m/\" + term + \"/quotes/\""
   ]
  },
  {
   "cell_type": "code",
   "execution_count": 13,
   "metadata": {},
   "outputs": [
    {
     "name": "stdout",
     "output_type": "stream",
     "text": [
      "Movie Title: Resident_Evil\n"
     ]
    },
    {
     "ename": "KeyError",
     "evalue": "0",
     "output_type": "error",
     "traceback": [
      "\u001b[1;31m---------------------------------------------------------------------------\u001b[0m",
      "\u001b[1;31mKeyError\u001b[0m                                  Traceback (most recent call last)",
      "\u001b[1;32m<ipython-input-13-a93eb8faff2c>\u001b[0m in \u001b[0;36m<module>\u001b[1;34m\u001b[0m\n\u001b[0;32m     10\u001b[0m \u001b[0mprint\u001b[0m\u001b[1;33m(\u001b[0m\u001b[1;34mf\"Movie Title: {term}\"\u001b[0m\u001b[1;33m)\u001b[0m\u001b[1;33m\u001b[0m\u001b[1;33m\u001b[0m\u001b[0m\n\u001b[0;32m     11\u001b[0m \u001b[1;32mfor\u001b[0m \u001b[0mquote\u001b[0m \u001b[1;32min\u001b[0m \u001b[0mquotes\u001b[0m\u001b[1;33m:\u001b[0m\u001b[1;33m\u001b[0m\u001b[1;33m\u001b[0m\u001b[0m\n\u001b[1;32m---> 12\u001b[1;33m      \u001b[0mprint\u001b[0m\u001b[1;33m(\u001b[0m\u001b[0mquote\u001b[0m\u001b[1;33m[\u001b[0m\u001b[1;36m0\u001b[0m\u001b[1;33m]\u001b[0m\u001b[1;33m.\u001b[0m\u001b[0mtext\u001b[0m\u001b[1;33m)\u001b[0m\u001b[1;33m\u001b[0m\u001b[1;33m\u001b[0m\u001b[0m\n\u001b[0m\u001b[0;32m     13\u001b[0m \u001b[1;33m\u001b[0m\u001b[0m\n\u001b[0;32m     14\u001b[0m \u001b[1;33m\u001b[0m\u001b[0m\n",
      "\u001b[1;32m~\\Anaconda\\lib\\site-packages\\bs4\\element.py\u001b[0m in \u001b[0;36m__getitem__\u001b[1;34m(self, key)\u001b[0m\n\u001b[0;32m   1069\u001b[0m         \"\"\"tag[key] returns the value of the 'key' attribute for the tag,\n\u001b[0;32m   1070\u001b[0m         and throws an exception if it's not there.\"\"\"\n\u001b[1;32m-> 1071\u001b[1;33m         \u001b[1;32mreturn\u001b[0m \u001b[0mself\u001b[0m\u001b[1;33m.\u001b[0m\u001b[0mattrs\u001b[0m\u001b[1;33m[\u001b[0m\u001b[0mkey\u001b[0m\u001b[1;33m]\u001b[0m\u001b[1;33m\u001b[0m\u001b[1;33m\u001b[0m\u001b[0m\n\u001b[0m\u001b[0;32m   1072\u001b[0m \u001b[1;33m\u001b[0m\u001b[0m\n\u001b[0;32m   1073\u001b[0m     \u001b[1;32mdef\u001b[0m \u001b[0m__iter__\u001b[0m\u001b[1;33m(\u001b[0m\u001b[0mself\u001b[0m\u001b[1;33m)\u001b[0m\u001b[1;33m:\u001b[0m\u001b[1;33m\u001b[0m\u001b[1;33m\u001b[0m\u001b[0m\n",
      "\u001b[1;31mKeyError\u001b[0m: 0"
     ]
    }
   ],
   "source": [
    "executable_path = {'executable_path': 'chromedriver.exe'}\n",
    "browser = Browser('chrome', **executable_path, headless=True)\n",
    "\n",
    "browser.visit(url)\n",
    "\n",
    "html = browser.html\n",
    "soup = BeautifulSoup(html, 'html.parser')\n",
    "\n",
    "quotes = soup.find_all('li', class_='quote_item')\n",
    "print(f\"Movie Title: {term}\")\n",
    "for quote in quotes:\n",
    "     print(quote.text)\n",
    "\n",
    "   "
   ]
  },
  {
   "cell_type": "code",
   "execution_count": 5,
   "metadata": {},
   "outputs": [
    {
     "data": {
      "text/plain": [
       "True"
      ]
     },
     "execution_count": 5,
     "metadata": {},
     "output_type": "execute_result"
    }
   ],
   "source": [
    "url2 = url = \"https://www.google.com.tr/search?q={}\".format(term) +\" movie quotes\"\n",
    "chrome_browser = webbrowser.get(\"C:/Program Files (x86)/Google/Chrome/Application/chrome.exe %s\")\n",
    "chrome_browser.open_new_tab(url2)"
   ]
  },
  {
   "cell_type": "code",
   "execution_count": 8,
   "metadata": {},
   "outputs": [],
   "source": [
    "def get_movie(title):\n",
    "            movie = title.replace(\" \" or \":\", \"_\")\n",
    "            url3 = \"https://www.rottentomatoes.com/m/\" + movie + \"/quotes/\"\n",
    "            executable_path = {'executable_path': 'chromedriver.exe'}\n",
    "            browser = Browser('chrome', **executable_path, headless=True)\n",
    "            browser.visit(url3)\n",
    "            html = browser.html\n",
    "            soup = BeautifulSoup(html, 'html.parser')\n",
    "            quotes = soup.find_all('li', class_='quote_item')\n",
    "            #for quote in quotes:\n",
    "            print(quotes[0].text)\n"
   ]
  },
  {
   "cell_type": "code",
   "execution_count": 9,
   "metadata": {},
   "outputs": [
    {
     "name": "stdout",
     "output_type": "stream",
     "text": [
      "Enter the name of a movie: incredibles\n",
      "Here are the quotes found for incredibles:\n",
      "\n",
      "\n",
      "\n",
      "Helen Parr / Elastigirl:\n",
      "Everyone is special, Dash.\n",
      "\n",
      "\n",
      "Dash Parr:\n",
      "That's just another way of saying no one is.\n",
      "\n",
      "\n",
      "\n",
      "\n"
     ]
    }
   ],
   "source": [
    "title = input(str(\"Enter the name of a movie: \"))\n",
    "print(f\"Here are the quotes found for {title}:\")\n",
    "get_movie(title)"
   ]
  },
  {
   "cell_type": "code",
   "execution_count": 6,
   "metadata": {},
   "outputs": [
    {
     "ename": "NameError",
     "evalue": "name 'title' is not defined",
     "output_type": "error",
     "traceback": [
      "\u001b[1;31m---------------------------------------------------------------------------\u001b[0m",
      "\u001b[1;31mNameError\u001b[0m                                 Traceback (most recent call last)",
      "\u001b[1;32m<ipython-input-6-0380a1c770cc>\u001b[0m in \u001b[0;36m<module>\u001b[1;34m\u001b[0m\n\u001b[1;32m----> 1\u001b[1;33m \u001b[0murl2\u001b[0m \u001b[1;33m=\u001b[0m \u001b[1;34m\"https://www.google.com.tr/search?q={}\"\u001b[0m\u001b[1;33m.\u001b[0m\u001b[0mformat\u001b[0m\u001b[1;33m(\u001b[0m\u001b[0mtitle\u001b[0m\u001b[1;33m)\u001b[0m \u001b[1;33m+\u001b[0m\u001b[1;34m\" movie quotes\"\u001b[0m\u001b[1;33m\u001b[0m\u001b[1;33m\u001b[0m\u001b[0m\n\u001b[0m\u001b[0;32m      2\u001b[0m \u001b[0mchrome_browser\u001b[0m \u001b[1;33m=\u001b[0m \u001b[0mwebbrowser\u001b[0m\u001b[1;33m.\u001b[0m\u001b[0mget\u001b[0m\u001b[1;33m(\u001b[0m\u001b[1;34m\"C:/Program Files (x86)/Google/Chrome/Application/chrome.exe %s\"\u001b[0m\u001b[1;33m)\u001b[0m\u001b[1;33m\u001b[0m\u001b[1;33m\u001b[0m\u001b[0m\n\u001b[0;32m      3\u001b[0m \u001b[0mchrome_browser\u001b[0m\u001b[1;33m.\u001b[0m\u001b[0mopen_new_tab\u001b[0m\u001b[1;33m(\u001b[0m\u001b[0murl2\u001b[0m\u001b[1;33m)\u001b[0m\u001b[1;33m\u001b[0m\u001b[1;33m\u001b[0m\u001b[0m\n",
      "\u001b[1;31mNameError\u001b[0m: name 'title' is not defined"
     ]
    }
   ],
   "source": [
    "url2 = \"https://www.google.com.tr/search?q={}\".format(title) +\" movie quotes\"\n",
    "chrome_browser = webbrowser.get(\"C:/Program Files (x86)/Google/Chrome/Application/chrome.exe %s\")\n",
    "chrome_browser.open_new_tab(url2)"
   ]
  },
  {
   "cell_type": "code",
   "execution_count": 5,
   "metadata": {},
   "outputs": [
    {
     "data": {
      "text/plain": [
       "{'url2': 'https://www.google.com.tr/search?q=incredibles movie quotes',\n",
       " 'title': 'incredibles',\n",
       " 'all_quotes': [{'info': \"\\n\\n\\nHelen Parr / Elastigirl:\\nEveryone is special, Dash.\\n\\n\\nDash Parr:\\nThat's just another way of saying no one is.\\n\\n\\n\\n\"},\n",
       "  {'info': \"\\n\\n\\nLucius Best / Frozone:\\nHoney, where's my super suit?\\n\\n\\n\\n\"},\n",
       "  {'info': \"\\n\\n\\nLucius Best / Frozone:\\nHoney? \\n\\n\\nMuriel Hogenson:\\nWhat?\\n\\n\\nLucius Best / Frozone:\\nWhere's my super suit? \\n\\n\\n\\n\"},\n",
       "  {'info': '\\n\\n\\nMirage:\\nIf you want to bet on something, bet on your own life!\\n\\n\\n\\n'},\n",
       "  {'info': \"\\n\\n\\nSyndrome:\\nMy name's not Buddy!\\n\\n\\n\\n\"},\n",
       "  {'info': '\\n\\n\\nHelen Parr / Elastigirl:\\nI think you need to be a bit more flexible.\\n\\n\\n\\n'},\n",
       "  {'info': '\\n\\n\\nSyndrome:\\nOh, ho ho! You sly dog! You got me monologuing!\\n\\n\\n\\n'},\n",
       "  {'info': '\\n\\n\\nViolet Parr:\\nWe act normal, mom! I want to \"be\" normal! The only normal one is Jack-Jack, and he\\'s not even toilet trained! \\n\\n\\nViolet Parr:\\nWe act normal, mom! I want to \\'be\\' normal! The only normal one is Jack-Jack, and he\\'s not even toilet trained! \\n\\n\\n\\n'},\n",
       "  {'info': \"\\n\\n\\nBob Parr / Mr. Incredible:\\n[whispering] Listen closely. I'd like to help you but I can't. I'd like to tell you to take a copy of your policy to Norma Wilcox on... Norma Wilcox, W-I-L-C-O-X... on the third floor, but I can't. \\n\\n\\n\\n\"},\n",
       "  {'info': \"\\n\\n\\nBob Parr / Mr. Incredible:\\nDid you get away with it?\\n\\n\\nBob Parr/Mr. Incredible:\\nDid you get away with it?\\n\\n\\nHelen Parr / Elastigirl:\\nDon't incourage him! \\n\\n\\nHelen Parr/Elastigirl:\\nDon't incourage him! \\n\\n\\nBob Parr / Mr. Incredible:\\nI'm not incoraging him, I'm just wondering if he got away with it\\n\\n\\nBob Parr / Mr. Incredible:\\nI'm not incoraging him, I'm just wondering if he got away with it.\\n\\n\\nBob Parr/Mr. Incredible:\\nI'm not encouraging him, I'm just wondering if he got away with it.\\n\\n\\n\\n\"},\n",
       "  {'info': '\\n\\n\\nDash Parr:\\nNo force feilds!\\n\\n\\nViolet Parr:\\nYou started it\\n\\n\\nViolet Parr:\\nYou started it!\\n\\n\\n\\n'},\n",
       "  {'info': \"\\n\\n\\nGilbert Huph:\\nI'm not happy Bob, not happy.\\n\\n\\n\\n\"},\n",
       "  {'info': '\\n\\n\\nSyndrome:\\nAnd after all. I am your Number 1 fan.\\n\\n\\n\\n'},\n",
       "  {'info': \"\\n\\n\\nSyndrome:\\nAnd when everyone's super, (Evil Laugh) no-one will be.\\n\\n\\nSyndrome:\\nAnd when everyone's super, [evil Laugh] no-one will be.\\n\\n\\n\\n\"},\n",
       "  {'info': '\\n\\n\\nEdna Mode:\\nEdna Mode: (to security panel) Edna Mode. (turret points at Elastigirl) And guest.\\n\\n\\n\\nEdna Mode:\\n[to security panel] Edna Mode. [turret points at Elastigirl] And guest.\\n\\n\\n\\n\\n'},\n",
       "  {'info': '\\n\\n\\nEdna Mode:\\n(to security panel) Edna Mode. (turret points at Elastigirl) And guest.\\n\\n\\nEdna Mode:\\n[to security panel] Edna Mode. [turret points at Elastigirl] And guest.\\n\\n\\n\\n'},\n",
       "  {'info': '\\n\\n\\nSyndrome:\\nYou sly dog! You caught me monologuing!\\n\\n\\n\\n'},\n",
       "  {'info': \"\\n\\n\\nEdna Mode:\\nWhat is it? Who are you, what do you want?\\n\\n\\nBob Parr / Mr. Incredible:\\n(Pulls down sunglasses to show it's him).\\n\\n\\nBob Parr / Mr. Incredible:\\n[pulls down sunglasses to show it's him]\\n\\n\\nEdna Mode:\\nMy god you've gotten fat! Come in! Come, come!\\n\\n\\n\\n\"},\n",
       "  {'info': \"\\n\\n\\nDash Parr:\\nHow are you doing that?!\\n\\n\\nDash Parr:\\nHow are you doing that?\\n\\n\\nViolet Parr:\\nI don't know!\\n\\n\\nDash Parr:\\nWell, whatever you do, DON'T STOP!\\n\\n\\n\\n\"},\n",
       "  {'info': \"\\n\\n\\nGilbert Huph:\\nWhat I can't handle is your customers' inexplicable knowledge of Insuricare inner workings. There experts, experts, Bob! Exploiting every loophole, dodging every obstacle. They're penetrating the bureaucracy!\\n\\n\\n\\n\"},\n",
       "  {'info': '\\n\\n\\nLucius Best / Frozone:\\nJust like old times, huh Bob? \\n\\n\\nBob Parr / Mr. Incredible:\\n[slapping Lucius in the back] Just like old times.\\n\\n\\nLucius Best / Frozone:\\nHa-ha, yeah. Hurt then, too. Ow. \\n\\n\\n\\n'},\n",
       "  {'info': \"\\n\\n\\nBob Parr / Mr. Incredible:\\nBuddy?\\n\\n\\nSyndrome:\\nMy name's NOT BUDDY! [attacking Bob] AND it's not Incredi-boy either!\\n\\n\\n\\n\"},\n",
       "  {'info': \"\\n\\n\\nLucius Best / Frozone:\\nHoney, Where's my Supersuit?\\n\\n\\n\\n\"},\n",
       "  {'info': '\\n\\n\\nEdna Mode:\\nPull-yourself-together! \"What will you do?\" Is this a question? You will show him you remember that he is Mr. Incredible, and you will remind him who you are. Well, you know where he is. Go, confront the problem. Fight! Win! [normal voice] And call me when you get back, darling. I enjoy our visits. \\n\\n\\nEdna Mode:\\nPull-yourself-together! \\'What will you do?\\' Is this a question? You will show him you remember that he is Mr. Incredible, and you will remind him who you are. Well, you know where he is. Go, confront the problem. Fight! Win! [normal voice] And call me when you get back, darling. I enjoy our visits. \\n\\n\\n\\n'},\n",
       "  {'info': '\\n\\n\\nEdna Mode:\\nNo capes!\\n\\n\\n\\n'},\n",
       "  {'info': \"\\n\\n\\nEdna Mode:\\nThis is a hobo suit, darling. You can't be seen in this. I won't allow it. Fifteen years ago, maybe, but now? Feh! \\n\\n\\nBob Parr / Mr. Incredible:\\nWait, what do you mean? You designed it. \\n\\n\\nEdna Mode:\\nI never look back, darling! It distracts from the now. \\n\\n\\n\\n\"},\n",
       "  {'info': \"\\n\\n\\nEdna Mode:\\nI cut it a little roomy for the free movement, the fabric is comfortable for sensitive skin... [a sheet of flame erupts in front of the suit] And it can also withstand a temperature of over 1000 degrees. Completely bulletproof... [four heavy machine guns appear and open fire on the suit, without effect] And machine washable, darling. That's a new feature. \\n\\n\\n\\n\"},\n",
       "  {'info': '\\n\\n\\nEdna Mode:\\nSupermodels. Heh! Nothing super about them... spoiled, stupid little stick figures with poofy lips who think only about themselves. \\n\\n\\n\\n'},\n",
       "  {'info': \"\\n\\n\\nLucius Best / Frozone:\\nHoney, where's my supersuit?\\n\\n\\n\\n\"},\n",
       "  {'info': \"\\n\\n\\nBob Parr / Mr. Incredible:\\n[Stretches] It's showtime.\\n\\n\\nBob Parr / Mr. Incredible:\\n[stretches] It's showtime.\\n\\n\\n\\n\"},\n",
       "  {'info': \"\\n\\n\\nHelen Parr / Elastigirl:\\nCutting it kinda close, don't you think?\\n\\n\\nHelen Parr / Elastigirl:\\nCutting it kinda close, don't ya think? \\n\\n\\nBob Parr / Mr. Incredible:\\nWell, you need to be more...flexible.\\n\\n\\nBob Parr / Mr. Incredible:\\nYou need to be more... flexible. \\n\\n\\n\\n\"},\n",
       "  {'info': \"\\n\\n\\nHelen Parr / Elastigirl:\\nYou're late. When you asked me if I was doing anything later, I didn't realize you had forgotten. I thought it was playful banter.\\n\\n\\nHelen Parr / Elastigirl:\\nYou're late. When you asked me if I was doing anything later, I didn't realize you'd actually forgotten. I thought it was playful banter.\\n\\n\\nBob Parr / Mr. Incredible:\\nIt was playful banter.\\n\\n\\n\\n\"},\n",
       "  {'info': '\\n\\n\\nMirage:\\nNext time you gamble, bet your own life!\\n\\n\\nMirage:\\n[through her teeth] Next time you gamble, bet *your own* life.\\n\\n\\n\\n'},\n",
       "  {'info': \"\\n\\n\\nBob Parr / Mr. Incredible:\\nWait. I bet Syndrome's changed the password by now. How do I get into his computers?\\n\\n\\nMirage:\\n[over microphone] Say please.\\n\\n\\n\\n\"},\n",
       "  {'info': '\\n\\n\\nEdna Mode:\\nYes, words are useless! Gobble, gobble, gobble...too much, darling, too much! That is why I show you my work, that is why you are HERE!\\n\\n\\nEdna Mode:\\nYes, words are useless! Gobble-gobble-gobble-gobble-gobble! Too much of it, darling, too much! That is why I show you my work! That is why you are here!\\n\\n\\n\\n'},\n",
       "  {'info': \"\\n\\n\\nLucius Best / Frozone:\\nIt means it's hot! And I've dehydrated, Bob! What's your excuse, you run out of muscle?!\\n\\n\\nBob Parr / Mr. Incredible:\\nI can't just go smashing through walls, the building's getting weaker by the second, it's gonna come down on top of us!\\n\\n\\nLucius Best / Frozone:\\nI wanted to go bowling!\\n\\n\\n\\n\"},\n",
       "  {'info': \"\\n\\n\\nEdna Mode:\\nYou can't! It's impossible! I'm far too busy, so ask me now before I again become sane.\\n\\n\\n\\n\"},\n",
       "  {'info': \"\\n\\n\\nViolet Parr:\\nBut you said we weren't supposed to use our powers.\\n\\n\\nViolet Parr:\\nBut you said never to use... \\n\\n\\nHelen Parr / Elastigirl:\\nI KNOW WHAT I SAID! Listen to what I'm saying now!\\n\\n\\nHelen Parr / Elastigirl:\\nI know what I said! [sighing] Remember the bad guys on the shows you used to watch on Saturday mornings? Well, these guys aren't like those guys. They won't exercise restraint because you are children. They *will* kill you if they get the chance. Do *not* give them that chance. \\n\\n\\n\\n\"},\n",
       "  {'info': \"\\n\\n\\nHelen Parr / Elastigirl:\\nRemember the bad guys on those shows you used to watch on Saturday mornings? Well, these guys are not like those guys. They won't exercise restraint because your children. They will kill you if they get the chance. Do not give them that chance. \\n\\n\\nHelen Parr / Elastigirl:\\nRemember the bad guys on the shows you used to watch on Saturday mornings? Well, these guys aren't like those guys. They won't exercise restraint because you are children. They *will* kill you if they get the chance. Do *not* give them that chance. \\n\\n\\n\\n\"},\n",
       "  {'info': '\\n\\n\\nSyndrome:\\nI am Syndrome, your nemesis!\\n\\n\\n\\n'},\n",
       "  {'info': \"\\n\\n\\nThe Underminer:\\nBehold, the Underminer! I'm always beneath you, but nothing is beneath me! I hereby declare war on peace and happiness! Soon, all will tremble before me! \\n\\n\\n\\n\"},\n",
       "  {'info': '\\n\\n\\nBob Parr / Mr. Incredible:\\nNo matter how many times you save the world, it always manages to get back in jeopardy again. Sometimes I just want it to stay saved! You know, for a little bit? I feel like the maid; I just cleaned up this mess! Can we keep it clean for... for ten minutes! \\n\\n\\n\\n'}]}"
      ]
     },
     "execution_count": 5,
     "metadata": {},
     "output_type": "execute_result"
    }
   ],
   "source": [
    "title = \"incredibles\"\n",
    "\n",
    "def selected_movie(title):\n",
    "    term = title.replace(\" \" or \":\", \"_\")\n",
    "    url = \"https://www.rottentomatoes.com/m/\" + term + \"/quotes/\"\n",
    "    url2 = \"https://www.google.com.tr/search?q={}\".format(title) +\" movie quotes\"\n",
    "    # Get the html from a request to the url\n",
    "    response = requests.get(url)\n",
    "    html = response.text\n",
    "    # Convert the html into a BeautifulSoup object\n",
    "    soup = BeautifulSoup(html, 'html.parser')\n",
    "    # Get all info from the specified .find_all() location\n",
    "    quotes = soup.find_all('li', class_='quote_item')\n",
    "    all_quotes = []\n",
    "    for quote in quotes:\n",
    "        info = quote.text\n",
    "        info_dict = {'info': info}\n",
    "        all_quotes.append(info_dict)\n",
    "        # Return links as a dictionary value \n",
    "    return {\n",
    "        'url2': url2, \n",
    "        'title': title, \n",
    "        'all_quotes': all_quotes\n",
    "    }\n",
    "\n",
    "selected_movie(title)"
   ]
  },
  {
   "cell_type": "code",
   "execution_count": null,
   "metadata": {},
   "outputs": [],
   "source": []
  }
 ],
 "metadata": {
  "kernelspec": {
   "display_name": "Python 3",
   "language": "python",
   "name": "python3"
  },
  "language_info": {
   "codemirror_mode": {
    "name": "ipython",
    "version": 3
   },
   "file_extension": ".py",
   "mimetype": "text/x-python",
   "name": "python",
   "nbconvert_exporter": "python",
   "pygments_lexer": "ipython3",
   "version": "3.7.1"
  }
 },
 "nbformat": 4,
 "nbformat_minor": 2
}
