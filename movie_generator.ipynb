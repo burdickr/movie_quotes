{
 "cells": [
  {
   "cell_type": "code",
   "execution_count": 5,
   "metadata": {},
   "outputs": [],
   "source": [
    "import pandas as pd\n",
    "#movies = pd.read_csv('movies_data.csv')\n",
    "import webbrowser\n",
    "from splinter import Browser\n",
    "from bs4 import BeautifulSoup\n",
    "import requests"
   ]
  },
  {
   "cell_type": "code",
   "execution_count": 10,
   "metadata": {},
   "outputs": [],
   "source": [
    "def movie_scrape():\n",
    "    movies = pd.read_csv('movies_data.csv')\n",
    "    clean_movies_df = pd.DataFrame(movies)\n",
    "    clean_movies_df.drop(clean_movies_df.loc[clean_movies_df['popularity']<30].index, inplace=True)\n",
    "    most_popular_df = clean_movies_df.sort_values(by=[\"popularity\"], ascending=False)\n",
    "    random_movie = most_popular_df.sample()\n",
    "    use_movie = random_movie.sample()\n",
    "    term = use_movie[\"title\"].values[0].replace(\" \" or \":\", \"_\")\n",
    "    url = \"https://www.rottentomatoes.com/m/\" + term + \"/quotes/\"\n",
    "    # Get the html from a request to the url\n",
    "    response = requests.get(url)\n",
    "\n",
    "    html = response.text\n",
    "\n",
    "    # Convert the html into a BeautifulSoup object\n",
    "    soup = BeautifulSoup(html, 'html.parser')\n",
    "\n",
    "    # Get all info from the specified .find_all() location\n",
    "    quotes = soup.find_all('li', class_='quote_item')\n",
    "    \n",
    "    links =[]\n",
    "    for quote in quotes:\n",
    "         links = quote.text\n",
    "\n",
    "    # Return links as a dictionary value \n",
    "    return {\n",
    "         links\n",
    "    }\n"
   ]
  },
  {
   "cell_type": "code",
   "execution_count": 12,
   "metadata": {},
   "outputs": [
    {
     "name": "stdout",
     "output_type": "stream",
     "text": [
      "{'\\n\\n\\nConan:\\nWarlord: \"What is best in life?\" \\nConan: \"To crush your enemies, to see them driven before you, and to hear the lamentations of their women.\" \\n\\n\\n\\nConan:\\nTo crush your enemies, to see them driven before you, and to hear the lamentations of their women. \\n\\n\\n\\nMongol General:\\nWhat is best in life? \\n\\n\\n\\nConan:\\nTo crush your enemies, see them driven before you, and to hear the lamentation of their women. \\n\\n\\n\\n'}\n"
     ]
    }
   ],
   "source": [
    "print(movie_scrape())\n"
   ]
  },
  {
   "cell_type": "code",
   "execution_count": null,
   "metadata": {},
   "outputs": [],
   "source": [
    "clean_movies_df = pd.DataFrame(movies)"
   ]
  },
  {
   "cell_type": "code",
   "execution_count": 3,
   "metadata": {},
   "outputs": [],
   "source": [
    "clean_movies_df.drop(clean_movies_df.loc[clean_movies_df['popularity']<30].index, inplace=True)\n",
    "most_popular_df = clean_movies_df.sort_values(by=[\"popularity\"], ascending=False)"
   ]
  },
  {
   "cell_type": "code",
   "execution_count": 4,
   "metadata": {},
   "outputs": [],
   "source": [
    "random_movie = most_popular_df.sample()\n",
    "use_movie = random_movie.sample()\n",
    "term = use_movie[\"title\"].values[0].replace(\" \" or \":\", \"_\")\n",
    "url = \"https://www.rottentomatoes.com/m/\" + term + \"/quotes/\""
   ]
  },
  {
   "cell_type": "code",
   "execution_count": 13,
   "metadata": {},
   "outputs": [
    {
     "name": "stdout",
     "output_type": "stream",
     "text": [
      "Movie Title: Resident_Evil\n"
     ]
    },
    {
     "ename": "KeyError",
     "evalue": "0",
     "output_type": "error",
     "traceback": [
      "\u001b[1;31m---------------------------------------------------------------------------\u001b[0m",
      "\u001b[1;31mKeyError\u001b[0m                                  Traceback (most recent call last)",
      "\u001b[1;32m<ipython-input-13-a93eb8faff2c>\u001b[0m in \u001b[0;36m<module>\u001b[1;34m\u001b[0m\n\u001b[0;32m     10\u001b[0m \u001b[0mprint\u001b[0m\u001b[1;33m(\u001b[0m\u001b[1;34mf\"Movie Title: {term}\"\u001b[0m\u001b[1;33m)\u001b[0m\u001b[1;33m\u001b[0m\u001b[1;33m\u001b[0m\u001b[0m\n\u001b[0;32m     11\u001b[0m \u001b[1;32mfor\u001b[0m \u001b[0mquote\u001b[0m \u001b[1;32min\u001b[0m \u001b[0mquotes\u001b[0m\u001b[1;33m:\u001b[0m\u001b[1;33m\u001b[0m\u001b[1;33m\u001b[0m\u001b[0m\n\u001b[1;32m---> 12\u001b[1;33m      \u001b[0mprint\u001b[0m\u001b[1;33m(\u001b[0m\u001b[0mquote\u001b[0m\u001b[1;33m[\u001b[0m\u001b[1;36m0\u001b[0m\u001b[1;33m]\u001b[0m\u001b[1;33m.\u001b[0m\u001b[0mtext\u001b[0m\u001b[1;33m)\u001b[0m\u001b[1;33m\u001b[0m\u001b[1;33m\u001b[0m\u001b[0m\n\u001b[0m\u001b[0;32m     13\u001b[0m \u001b[1;33m\u001b[0m\u001b[0m\n\u001b[0;32m     14\u001b[0m \u001b[1;33m\u001b[0m\u001b[0m\n",
      "\u001b[1;32m~\\Anaconda\\lib\\site-packages\\bs4\\element.py\u001b[0m in \u001b[0;36m__getitem__\u001b[1;34m(self, key)\u001b[0m\n\u001b[0;32m   1069\u001b[0m         \"\"\"tag[key] returns the value of the 'key' attribute for the tag,\n\u001b[0;32m   1070\u001b[0m         and throws an exception if it's not there.\"\"\"\n\u001b[1;32m-> 1071\u001b[1;33m         \u001b[1;32mreturn\u001b[0m \u001b[0mself\u001b[0m\u001b[1;33m.\u001b[0m\u001b[0mattrs\u001b[0m\u001b[1;33m[\u001b[0m\u001b[0mkey\u001b[0m\u001b[1;33m]\u001b[0m\u001b[1;33m\u001b[0m\u001b[1;33m\u001b[0m\u001b[0m\n\u001b[0m\u001b[0;32m   1072\u001b[0m \u001b[1;33m\u001b[0m\u001b[0m\n\u001b[0;32m   1073\u001b[0m     \u001b[1;32mdef\u001b[0m \u001b[0m__iter__\u001b[0m\u001b[1;33m(\u001b[0m\u001b[0mself\u001b[0m\u001b[1;33m)\u001b[0m\u001b[1;33m:\u001b[0m\u001b[1;33m\u001b[0m\u001b[1;33m\u001b[0m\u001b[0m\n",
      "\u001b[1;31mKeyError\u001b[0m: 0"
     ]
    }
   ],
   "source": [
    "executable_path = {'executable_path': 'chromedriver.exe'}\n",
    "browser = Browser('chrome', **executable_path, headless=True)\n",
    "\n",
    "browser.visit(url)\n",
    "\n",
    "html = browser.html\n",
    "soup = BeautifulSoup(html, 'html.parser')\n",
    "\n",
    "quotes = soup.find_all('li', class_='quote_item')\n",
    "print(f\"Movie Title: {term}\")\n",
    "for quote in quotes:\n",
    "     print(quote.text)\n",
    "\n",
    "   "
   ]
  },
  {
   "cell_type": "code",
   "execution_count": 5,
   "metadata": {},
   "outputs": [
    {
     "data": {
      "text/plain": [
       "True"
      ]
     },
     "execution_count": 5,
     "metadata": {},
     "output_type": "execute_result"
    }
   ],
   "source": [
    "url2 = url = \"https://www.google.com.tr/search?q={}\".format(term) +\" movie quotes\"\n",
    "chrome_browser = webbrowser.get(\"C:/Program Files (x86)/Google/Chrome/Application/chrome.exe %s\")\n",
    "chrome_browser.open_new_tab(url2)"
   ]
  },
  {
   "cell_type": "code",
   "execution_count": 8,
   "metadata": {},
   "outputs": [],
   "source": [
    "def get_movie(title):\n",
    "            movie = title.replace(\" \" or \":\", \"_\")\n",
    "            url3 = \"https://www.rottentomatoes.com/m/\" + movie + \"/quotes/\"\n",
    "            executable_path = {'executable_path': 'chromedriver.exe'}\n",
    "            browser = Browser('chrome', **executable_path, headless=True)\n",
    "            browser.visit(url3)\n",
    "            html = browser.html\n",
    "            soup = BeautifulSoup(html, 'html.parser')\n",
    "            quotes = soup.find_all('li', class_='quote_item')\n",
    "            #for quote in quotes:\n",
    "            print(quotes[0].text)\n"
   ]
  },
  {
   "cell_type": "code",
   "execution_count": 9,
   "metadata": {},
   "outputs": [
    {
     "name": "stdout",
     "output_type": "stream",
     "text": [
      "Enter the name of a movie: incredibles\n",
      "Here are the quotes found for incredibles:\n",
      "\n",
      "\n",
      "\n",
      "Helen Parr / Elastigirl:\n",
      "Everyone is special, Dash.\n",
      "\n",
      "\n",
      "Dash Parr:\n",
      "That's just another way of saying no one is.\n",
      "\n",
      "\n",
      "\n",
      "\n"
     ]
    }
   ],
   "source": [
    "title = input(str(\"Enter the name of a movie: \"))\n",
    "print(f\"Here are the quotes found for {title}:\")\n",
    "get_movie(title)"
   ]
  },
  {
   "cell_type": "code",
   "execution_count": 6,
   "metadata": {},
   "outputs": [
    {
     "ename": "NameError",
     "evalue": "name 'title' is not defined",
     "output_type": "error",
     "traceback": [
      "\u001b[1;31m---------------------------------------------------------------------------\u001b[0m",
      "\u001b[1;31mNameError\u001b[0m                                 Traceback (most recent call last)",
      "\u001b[1;32m<ipython-input-6-0380a1c770cc>\u001b[0m in \u001b[0;36m<module>\u001b[1;34m\u001b[0m\n\u001b[1;32m----> 1\u001b[1;33m \u001b[0murl2\u001b[0m \u001b[1;33m=\u001b[0m \u001b[1;34m\"https://www.google.com.tr/search?q={}\"\u001b[0m\u001b[1;33m.\u001b[0m\u001b[0mformat\u001b[0m\u001b[1;33m(\u001b[0m\u001b[0mtitle\u001b[0m\u001b[1;33m)\u001b[0m \u001b[1;33m+\u001b[0m\u001b[1;34m\" movie quotes\"\u001b[0m\u001b[1;33m\u001b[0m\u001b[1;33m\u001b[0m\u001b[0m\n\u001b[0m\u001b[0;32m      2\u001b[0m \u001b[0mchrome_browser\u001b[0m \u001b[1;33m=\u001b[0m \u001b[0mwebbrowser\u001b[0m\u001b[1;33m.\u001b[0m\u001b[0mget\u001b[0m\u001b[1;33m(\u001b[0m\u001b[1;34m\"C:/Program Files (x86)/Google/Chrome/Application/chrome.exe %s\"\u001b[0m\u001b[1;33m)\u001b[0m\u001b[1;33m\u001b[0m\u001b[1;33m\u001b[0m\u001b[0m\n\u001b[0;32m      3\u001b[0m \u001b[0mchrome_browser\u001b[0m\u001b[1;33m.\u001b[0m\u001b[0mopen_new_tab\u001b[0m\u001b[1;33m(\u001b[0m\u001b[0murl2\u001b[0m\u001b[1;33m)\u001b[0m\u001b[1;33m\u001b[0m\u001b[1;33m\u001b[0m\u001b[0m\n",
      "\u001b[1;31mNameError\u001b[0m: name 'title' is not defined"
     ]
    }
   ],
   "source": [
    "url2 = \"https://www.google.com.tr/search?q={}\".format(title) +\" movie quotes\"\n",
    "chrome_browser = webbrowser.get(\"C:/Program Files (x86)/Google/Chrome/Application/chrome.exe %s\")\n",
    "chrome_browser.open_new_tab(url2)"
   ]
  },
  {
   "cell_type": "code",
   "execution_count": null,
   "metadata": {},
   "outputs": [],
   "source": []
  },
  {
   "cell_type": "code",
   "execution_count": null,
   "metadata": {},
   "outputs": [],
   "source": []
  }
 ],
 "metadata": {
  "kernelspec": {
   "display_name": "Python 3",
   "language": "python",
   "name": "python3"
  },
  "language_info": {
   "codemirror_mode": {
    "name": "ipython",
    "version": 3
   },
   "file_extension": ".py",
   "mimetype": "text/x-python",
   "name": "python",
   "nbconvert_exporter": "python",
   "pygments_lexer": "ipython3",
   "version": "3.7.1"
  }
 },
 "nbformat": 4,
 "nbformat_minor": 2
}
